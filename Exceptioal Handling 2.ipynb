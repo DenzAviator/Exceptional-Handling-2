{
 "cells": [
  {
   "cell_type": "markdown",
   "id": "03bacc46",
   "metadata": {},
   "source": [
    "1. What is the role of try and exception block? "
   ]
  },
  {
   "cell_type": "markdown",
   "id": "faf952f2",
   "metadata": {},
   "source": [
    "The \"try-except\" block, also known as exception handling, is a construct in programming languages that allows you to handle and recover from errors or exceptional situations that may occur during the execution of a program. The main role of the try-except block is to provide a mechanism for gracefully handling and responding to errors, preventing the program from crashing or behaving unexpectedly.\n",
    "\n",
    "Here's how it typically works:\n",
    "\n",
    "The code within the \"try\" block is executed. This is the section where you anticipate potential errors or exceptions.\n",
    "\n",
    "If an exception occurs within the \"try\" block, the execution is immediately transferred to the corresponding \"except\" block. The \"except\" block contains code that specifies how to handle the exception.\n",
    "\n",
    "The code within the \"except\" block is executed, allowing you to handle the exception appropriately. You can log the error, display a meaningful error message to the user, or take other necessary actions.\n",
    "\n",
    "By using try-except blocks, you can gracefully handle exceptions and control the flow of your program even when unexpected errors occur. This helps in writing robust and fault-tolerant code. It's important to note that you can have multiple \"except\" blocks to handle different types of exceptions, allowing you to tailor the error handling based on specific situations."
   ]
  },
  {
   "cell_type": "code",
   "execution_count": 1,
   "id": "3ee6bd3e",
   "metadata": {},
   "outputs": [
    {
     "name": "stdout",
     "output_type": "stream",
     "text": [
      "Error: Division by zero is not allowed.\n"
     ]
    }
   ],
   "source": [
    "try:\n",
    "    # Code that might raise an exception\n",
    "    result = 10 / 0  # Division by zero, raises ZeroDivisionError\n",
    "except ZeroDivisionError:\n",
    "    # Exception handling code\n",
    "    print(\"Error: Division by zero is not allowed.\")"
   ]
  },
  {
   "cell_type": "markdown",
   "id": "3d39eee3",
   "metadata": {},
   "source": [
    "In this example, the code attempts to divide 10 by zero, which raises a ZeroDivisionError exception. The exception is caught by the except block, and the program executes the specified error message instead of crashing."
   ]
  },
  {
   "cell_type": "code",
   "execution_count": null,
   "id": "76a33fc9",
   "metadata": {},
   "outputs": [],
   "source": []
  },
  {
   "cell_type": "markdown",
   "id": "5eadcff1",
   "metadata": {},
   "source": [
    "2. What is the syntax for a basic try-except block? "
   ]
  },
  {
   "cell_type": "code",
   "execution_count": 1,
   "id": "11031c79",
   "metadata": {},
   "outputs": [
    {
     "name": "stdout",
     "output_type": "stream",
     "text": [
      "Enter a number: 4\n",
      "The result is: 5.0\n",
      "No exceptions occurred.\n",
      "This is always executed.\n"
     ]
    }
   ],
   "source": [
    "try:\n",
    "    x = int(input(\"Enter a number: \"))\n",
    "    result = 20 / x\n",
    "    print(\"The result is:\", result)\n",
    "except ValueError:\n",
    "    print(\"Invalid input. Please enter a valid integer.\")\n",
    "except ZeroDivisionError:\n",
    "    print(\"Error: Cannot divide by zero.\")\n",
    "else:\n",
    "    print(\"No exceptions occurred.\")\n",
    "finally:\n",
    "    print(\"This is always executed.\")"
   ]
  },
  {
   "cell_type": "code",
   "execution_count": null,
   "id": "bf9cbc2a",
   "metadata": {},
   "outputs": [],
   "source": []
  },
  {
   "cell_type": "markdown",
   "id": "767def24",
   "metadata": {},
   "source": [
    "3. What happens if an exception occurs inside a try block and there is no matching except block? \n",
    "\n",
    "If an exception occurs inside a try block and there is no matching except block to handle that specific exception, the program will terminate abruptly, and the exception will propagate up the call stack until it reaches an appropriate exception handler or until it reaches the top-level of the program. This can result in the program terminating with an unhandled exception error.\n",
    "\n",
    "When an exception is raised within a try block, Python checks for an associated except block that can handle that particular exception type. If there is no matching except block for the raised exception, the try block is immediately exited, and the program flow is transferred to the next suitable exception handler. If no appropriate exception handler is found, the program terminates and prints a traceback that shows the exception message and the line of code where the exception occurred.\n"
   ]
  },
  {
   "cell_type": "code",
   "execution_count": null,
   "id": "0b405b81",
   "metadata": {},
   "outputs": [],
   "source": []
  },
  {
   "cell_type": "markdown",
   "id": "0f6936d7",
   "metadata": {},
   "source": [
    "4. What is the difference between using a bare except block and specifying a specific exception type?"
   ]
  },
  {
   "cell_type": "markdown",
   "id": "357589dc",
   "metadata": {},
   "source": [
    "In Python, when handling exceptions, you can either use a bare except block or specify a specific exception type. The difference lies in the level of control and granularity you have over handling different types of exceptions."
   ]
  },
  {
   "cell_type": "markdown",
   "id": "750a74d9",
   "metadata": {},
   "source": [
    "Bare except block:\n",
    "    \n",
    "When you use a bare except block, it catches all exceptions indiscriminately, regardless of their type. It acts as a catch-all for any exception that may occur within the corresponding try block. While this approach can prevent your program from crashing, it is generally considered bad practice. It can make it difficult to diagnose and handle specific errors, as all exceptions are treated the same way."
   ]
  },
  {
   "cell_type": "code",
   "execution_count": 6,
   "id": "503b5dc8",
   "metadata": {},
   "outputs": [
    {
     "name": "stdout",
     "output_type": "stream",
     "text": [
      "846890 8394\n"
     ]
    }
   ],
   "source": [
    "try:\n",
    "    print(\"846890 8394\")\n",
    "except:\n",
    "    print(\"Integers are not always in code\")"
   ]
  },
  {
   "cell_type": "code",
   "execution_count": 5,
   "id": "a3261fd0",
   "metadata": {},
   "outputs": [
    {
     "name": "stdout",
     "output_type": "stream",
     "text": [
      "4576 hello world\n"
     ]
    }
   ],
   "source": [
    "try:\n",
    "    print(\"4576 hello world\",)# Some code that may raise an exception\n",
    "except:\n",
    "    print(\"You cant concatinate integer and string\")\n",
    "    # Exception handling code"
   ]
  },
  {
   "cell_type": "code",
   "execution_count": null,
   "id": "18a7e505",
   "metadata": {},
   "outputs": [],
   "source": []
  },
  {
   "cell_type": "markdown",
   "id": "fda8493c",
   "metadata": {},
   "source": [
    "Specifying a specific exception type:\n",
    "    \n",
    "Alternatively, you can specify the type of exception you want to handle explicitly. This allows you to selectively catch and handle different exceptions based on their types. By handling exceptions specifically, you can provide appropriate error handling for different scenarios and perform different actions accordingly."
   ]
  },
  {
   "cell_type": "code",
   "execution_count": 9,
   "id": "adbb9433",
   "metadata": {},
   "outputs": [
    {
     "ename": "IndentationError",
     "evalue": "expected an indented block after 'try' statement on line 1 (2809191258.py, line 3)",
     "output_type": "error",
     "traceback": [
      "\u001b[1;36m  Cell \u001b[1;32mIn[9], line 3\u001b[1;36m\u001b[0m\n\u001b[1;33m    except ValueError:\u001b[0m\n\u001b[1;37m    ^\u001b[0m\n\u001b[1;31mIndentationError\u001b[0m\u001b[1;31m:\u001b[0m expected an indented block after 'try' statement on line 1\n"
     ]
    }
   ],
   "source": [
    "try:\n",
    "    # Some code that may raise an exception\n",
    "except ValueError:\n",
    "    # Exception handling code for ValueError\n",
    "except FileNotFoundError:\n",
    "    # Exception handling code for FileNotFoundError"
   ]
  },
  {
   "cell_type": "markdown",
   "id": "915ebe00",
   "metadata": {},
   "source": [
    "By specifying specific exception types, you can handle different exceptions in a more targeted manner. This allows you to differentiate between various error conditions and handle them appropriately. It also helps in debugging and understanding the flow of the program, as you can identify which specific exception occurred. Therefore, it is generally recommended to specify the specific exception types whenever possible instead of using a bare except block."
   ]
  },
  {
   "cell_type": "code",
   "execution_count": null,
   "id": "637bcce8",
   "metadata": {},
   "outputs": [],
   "source": []
  },
  {
   "cell_type": "markdown",
   "id": "83628a7e",
   "metadata": {},
   "source": [
    "5. Can you have nested try-except blocks in Python? If yes, then give an example. \n",
    "\n",
    "Yes, you can have nested try-except blocks in Python. This allows you to handle different levels of exceptions within your code. Here's an example:"
   ]
  },
  {
   "cell_type": "code",
   "execution_count": 10,
   "id": "e16ac885",
   "metadata": {},
   "outputs": [
    {
     "name": "stdout",
     "output_type": "stream",
     "text": [
      "Enter a number: 4\n",
      "Result: 2.5\n"
     ]
    }
   ],
   "source": [
    "try:\n",
    "    # Outer try block\n",
    "    num = int(input(\"Enter a number: \"))\n",
    "\n",
    "    try:\n",
    "        # Inner try block\n",
    "        result = 10 / num\n",
    "        print(\"Result:\", result)\n",
    "    except ZeroDivisionError:\n",
    "        print(\"Error: Cannot divide by zero.\")\n",
    "    except ValueError:\n",
    "        print(\"Error: Invalid input. Please enter a valid number.\")\n",
    "except:\n",
    "    print(\"An error occurred.\")"
   ]
  },
  {
   "cell_type": "markdown",
   "id": "84075f13",
   "metadata": {},
   "source": [
    "In this example, we have an outer try block that attempts to convert the user's input into an integer. If a ValueError occurs, indicating that the input was not a valid number, the inner except block inside the outer try block will catch the exception and print an appropriate error message.\n",
    "\n",
    "If the conversion to an integer is successful, the code proceeds to the inner try block where the division operation 10 / num takes place. If a ZeroDivisionError occurs, indicating that the user entered zero as the input, the inner except block will catch the exception and print an error message.\n",
    "\n",
    "If any other exception occurs in either the outer or inner try blocks, the final except block will catch it and print a generic error message.\n",
    "\n",
    "By nesting try-except blocks, you can handle exceptions at different levels of your code, providing more specific error handling and making your code more robust."
   ]
  },
  {
   "cell_type": "code",
   "execution_count": null,
   "id": "5637a305",
   "metadata": {},
   "outputs": [],
   "source": []
  },
  {
   "cell_type": "markdown",
   "id": "1787f60f",
   "metadata": {},
   "source": [
    "6. Can we use multiple exception blocks, if yes then give an example. \n",
    "\n",
    "Yes, in many programming languages, including Java, you can use multiple exception blocks to handle different types of exceptions separately. This allows you to provide specific error handling and recovery mechanisms for each type of exception that may occur within your code."
   ]
  },
  {
   "cell_type": "code",
   "execution_count": 1,
   "id": "af000257",
   "metadata": {},
   "outputs": [
    {
     "name": "stdout",
     "output_type": "stream",
     "text": [
      "An error occurred: name 'divide_numbers' is not defined\n"
     ]
    }
   ],
   "source": [
    "try:\n",
    "    # Code that may raise exceptions\n",
    "    result = divide_numbers(10, 0)\n",
    "    print(\"Result:\", result)\n",
    "except ZeroDivisionError as e:\n",
    "    # Exception block for ZeroDivisionError\n",
    "    print(\"A division by zero error occurred:\", str(e))\n",
    "except ValueError as e:\n",
    "    # Exception block for ValueError\n",
    "    print(\"A value error occurred:\", str(e))\n",
    "except Exception as e:\n",
    "    # Generic exception block to handle any other type of exception\n",
    "    print(\"An error occurred:\", str(e))"
   ]
  },
  {
   "cell_type": "markdown",
   "id": "3d8385d9",
   "metadata": {},
   "source": [
    "7. Write the reason due to which following errors are raised: \n",
    "    \n",
    "    a. EOFError \n",
    "    \n",
    "    b. FloatingPointError \n",
    "    \n",
    "    c. IndexError\n",
    "    \n",
    "    d. MemoryError \n",
    "    \n",
    "    e. OverflowError \n",
    "    \n",
    "    f. TabError \n",
    "    \n",
    "    g. ValueError "
   ]
  },
  {
   "cell_type": "markdown",
   "id": "ffe5f7c1",
   "metadata": {},
   "source": [
    "a. EOFError: This error is raised when the end of a file or input stream is reached unexpectedly. It typically occurs when a function tries to read more data from a file or input stream than is available.\n",
    "\n",
    "b. FloatingPointError: This error occurs when a floating-point operation fails to produce a valid result. It can happen when attempting to perform mathematical operations like division or square root on special values such as infinity or NaN (Not a Number).\n",
    "\n",
    "c. IndexError: This error is raised when trying to access an index of a sequence (e.g., list, tuple, or string) that is out of range. It happens when you attempt to access an element using an index that exceeds the bounds of the sequence.\n",
    "\n",
    "d. MemoryError: This error occurs when the program runs out of available memory to allocate for new objects or data structures. It happens when the system cannot fulfill a memory allocation request due to insufficient memory resources.\n",
    "\n",
    "e. OverflowError: This error is raised when a mathematical operation exceeds the maximum representable value for a numeric type. It typically occurs when performing arithmetic operations that result in a value greater than the maximum value that can be stored.\n",
    "\n",
    "f. TabError: This error is raised when the indentation in Python code is not consistent or does not follow the indentation rules. It can occur when mixing tabs and spaces for indentation, or when the number of spaces used for indentation is not consistent within a block of code.\n",
    "\n",
    "g. ValueError: This error is raised when a function receives an argument of the correct type but with an invalid value. It occurs when a built-in operation or function is called with an inappropriate argument or when attempting to convert a value to a different type that is not possible.\n"
   ]
  },
  {
   "cell_type": "code",
   "execution_count": null,
   "id": "04a7785f",
   "metadata": {},
   "outputs": [],
   "source": []
  },
  {
   "cell_type": "markdown",
   "id": "01d28959",
   "metadata": {},
   "source": [
    "8. Write code for the following given scenario and add try-exception block to it. \n",
    "\n",
    "a. Program to divide two numbers \n",
    "\n",
    "b. Program to convert a string to an integer \n",
    "\n",
    "c. Program to access an element in a list \n",
    "\n",
    "d. Program to handle a specific exception \n",
    "\n",
    "e. Program to handle any exception"
   ]
  },
  {
   "cell_type": "code",
   "execution_count": null,
   "id": "03004040",
   "metadata": {},
   "outputs": [],
   "source": [
    "# a. Program to divide two numbers:\n",
    "\n",
    "try:\n",
    "    numerator = float(input(\"Enter the numerator: \"))\n",
    "    denominator = float(input(\"Enter the denominator: \"))\n",
    "    result = numerator / denominator\n",
    "    print(\"Result: \", result)\n",
    "except ZeroDivisionError:\n",
    "    print(\"Error: Division by zero is not allowed.\")\n",
    "except ValueError:\n",
    "    print(\"Error: Please enter valid numbers.\")"
   ]
  },
  {
   "cell_type": "code",
   "execution_count": null,
   "id": "a76adbab",
   "metadata": {},
   "outputs": [],
   "source": []
  },
  {
   "cell_type": "markdown",
   "id": "a4254464",
   "metadata": {},
   "source": [
    "b. Program to convert a string to an integer "
   ]
  },
  {
   "cell_type": "code",
   "execution_count": null,
   "id": "fe030d77",
   "metadata": {},
   "outputs": [],
   "source": [
    "try:\n",
    "    string_num = input(\"Enter a number: \")\n",
    "    integer_num = int(string_num)\n",
    "    print(\"Integer value:\", integer_num)\n",
    "except ValueError:\n",
    "    print(\"Error: Invalid input. Please enter a valid integer.\")"
   ]
  },
  {
   "cell_type": "code",
   "execution_count": null,
   "id": "899408ec",
   "metadata": {},
   "outputs": [],
   "source": []
  },
  {
   "cell_type": "markdown",
   "id": "2b49db9d",
   "metadata": {},
   "source": [
    "c. Program to access an element in a list:"
   ]
  },
  {
   "cell_type": "code",
   "execution_count": null,
   "id": "a7c3ed30",
   "metadata": {},
   "outputs": [],
   "source": [
    "try:\n",
    "    my_list = [1, 2, 3, 4, 5]\n",
    "    index = int(input(\"Enter the index: \"))\n",
    "    element = my_list[index]\n",
    "    print(\"Element at index\", index, \"is\", element)\n",
    "except IndexError:\n",
    "    print(\"Error: Index out of range.\")\n",
    "except ValueError:\n",
    "    print(\"Error: Invalid input. Please enter a valid index.\")"
   ]
  },
  {
   "cell_type": "code",
   "execution_count": null,
   "id": "aad54fe8",
   "metadata": {},
   "outputs": [],
   "source": []
  },
  {
   "cell_type": "markdown",
   "id": "14ec4ce1",
   "metadata": {},
   "source": [
    "d. Program to handle a specific exception:"
   ]
  },
  {
   "cell_type": "code",
   "execution_count": null,
   "id": "10e14c13",
   "metadata": {},
   "outputs": [],
   "source": [
    "try:\n",
    "    num1 = int(input(\"Enter a number: \"))\n",
    "    num2 = int(input(\"Enter another number: \"))\n",
    "    result = num1 / num2\n",
    "    print(\"Result:\", result)\n",
    "except ZeroDivisionError:\n",
    "    print(\"Error: Division by zero is not allowed.\")\n",
    "except ValueError:\n",
    "    print(\"Error: Invalid input. Please enter valid numbers.\")"
   ]
  },
  {
   "cell_type": "markdown",
   "id": "ca02ad25",
   "metadata": {},
   "source": [
    "e. Program to handle any exception:"
   ]
  },
  {
   "cell_type": "code",
   "execution_count": null,
   "id": "72ecadcd",
   "metadata": {},
   "outputs": [],
   "source": [
    "try:\n",
    "    # Your code here\n",
    "except Exception as e:\n",
    "    print(\"An error occurred:\", str(e))"
   ]
  },
  {
   "cell_type": "code",
   "execution_count": null,
   "id": "4c405e14",
   "metadata": {},
   "outputs": [],
   "source": []
  }
 ],
 "metadata": {
  "kernelspec": {
   "display_name": "Python 3 (ipykernel)",
   "language": "python",
   "name": "python3"
  },
  "language_info": {
   "codemirror_mode": {
    "name": "ipython",
    "version": 3
   },
   "file_extension": ".py",
   "mimetype": "text/x-python",
   "name": "python",
   "nbconvert_exporter": "python",
   "pygments_lexer": "ipython3",
   "version": "3.10.9"
  }
 },
 "nbformat": 4,
 "nbformat_minor": 5
}
